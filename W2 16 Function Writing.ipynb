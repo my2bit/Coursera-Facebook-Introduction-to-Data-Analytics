{
 "cells": [
  {
   "cell_type": "code",
   "execution_count": 1,
   "id": "45c9acdc",
   "metadata": {},
   "outputs": [],
   "source": [
    "def show_one_plus_one():\n",
    "    print('one plus one:')\n",
    "    total = 1 + 1\n",
    "    print(total)"
   ]
  },
  {
   "cell_type": "code",
   "execution_count": 3,
   "id": "4ab0d898",
   "metadata": {},
   "outputs": [
    {
     "name": "stdout",
     "output_type": "stream",
     "text": [
      "one plus one:\n",
      "2\n"
     ]
    }
   ],
   "source": [
    "show_one_plus_one()"
   ]
  },
  {
   "cell_type": "code",
   "execution_count": 9,
   "id": "996fde47",
   "metadata": {},
   "outputs": [],
   "source": [
    "def my_other_function():\n",
    "    print('one plus one')\n",
    "    total = 1 + 1\n",
    "    print(total)\n",
    "    return total"
   ]
  },
  {
   "cell_type": "code",
   "execution_count": 11,
   "id": "daf61062",
   "metadata": {},
   "outputs": [
    {
     "name": "stdout",
     "output_type": "stream",
     "text": [
      "one plus one\n",
      "2\n"
     ]
    }
   ],
   "source": [
    "my_answer = my_other_function()"
   ]
  },
  {
   "cell_type": "code",
   "execution_count": 12,
   "id": "06586651",
   "metadata": {},
   "outputs": [
    {
     "data": {
      "text/plain": [
       "2"
      ]
     },
     "execution_count": 12,
     "metadata": {},
     "output_type": "execute_result"
    }
   ],
   "source": [
    "my_answer"
   ]
  },
  {
   "cell_type": "code",
   "execution_count": 14,
   "id": "0f8fed60",
   "metadata": {},
   "outputs": [],
   "source": [
    "def my_function():\n",
    "    print('one plus one')\n",
    "    total = 1 + 1\n",
    "    print(total)\n",
    "    return"
   ]
  },
  {
   "cell_type": "code",
   "execution_count": 15,
   "id": "ef4995f9",
   "metadata": {},
   "outputs": [
    {
     "name": "stdout",
     "output_type": "stream",
     "text": [
      "one plus one\n",
      "2\n"
     ]
    }
   ],
   "source": [
    "my_function()"
   ]
  },
  {
   "cell_type": "code",
   "execution_count": 16,
   "id": "a060f0b6",
   "metadata": {},
   "outputs": [
    {
     "name": "stdout",
     "output_type": "stream",
     "text": [
      "one plus one\n",
      "2\n"
     ]
    }
   ],
   "source": [
    "my_answer = my_function()"
   ]
  },
  {
   "cell_type": "code",
   "execution_count": 17,
   "id": "82212ef1",
   "metadata": {},
   "outputs": [],
   "source": [
    "my_answer"
   ]
  },
  {
   "cell_type": "code",
   "execution_count": 18,
   "id": "f846cd5e",
   "metadata": {
    "scrolled": true
   },
   "outputs": [
    {
     "name": "stdout",
     "output_type": "stream",
     "text": [
      "None\n"
     ]
    }
   ],
   "source": [
    "print(my_answer)"
   ]
  },
  {
   "cell_type": "markdown",
   "id": "3eff4d67",
   "metadata": {},
   "source": [
    "### Defining Parameters & Passing arguments"
   ]
  },
  {
   "cell_type": "code",
   "execution_count": 20,
   "id": "bc7b8c3c",
   "metadata": {},
   "outputs": [],
   "source": [
    "def add_together(p1, p2):\n",
    "    return p1 + p2"
   ]
  },
  {
   "cell_type": "code",
   "execution_count": 21,
   "id": "de372d59",
   "metadata": {},
   "outputs": [
    {
     "data": {
      "text/plain": [
       "42"
      ]
     },
     "execution_count": 21,
     "metadata": {},
     "output_type": "execute_result"
    }
   ],
   "source": [
    "add_together(31, 11)"
   ]
  },
  {
   "cell_type": "code",
   "execution_count": 22,
   "id": "3d444d81",
   "metadata": {},
   "outputs": [
    {
     "data": {
      "text/plain": [
       "27.5"
      ]
     },
     "execution_count": 22,
     "metadata": {},
     "output_type": "execute_result"
    }
   ],
   "source": [
    "add_together(-3, 30.5)"
   ]
  },
  {
   "cell_type": "code",
   "execution_count": 32,
   "id": "1901df48",
   "metadata": {},
   "outputs": [],
   "source": [
    "def greeter(name):\n",
    "    greeting = 'Howdy, ' + name\n",
    "    print(greeting)"
   ]
  },
  {
   "cell_type": "code",
   "execution_count": 33,
   "id": "3529115c",
   "metadata": {},
   "outputs": [
    {
     "name": "stdout",
     "output_type": "stream",
     "text": [
      "Howdy, Victor\n"
     ]
    }
   ],
   "source": [
    "greeter('Victor')"
   ]
  },
  {
   "cell_type": "code",
   "execution_count": 34,
   "id": "f6d76fce",
   "metadata": {},
   "outputs": [
    {
     "name": "stdout",
     "output_type": "stream",
     "text": [
      "Howdy, Student\n"
     ]
    }
   ],
   "source": [
    "greeter('Student')"
   ]
  },
  {
   "cell_type": "code",
   "execution_count": 35,
   "id": "3fdb508d",
   "metadata": {},
   "outputs": [
    {
     "ename": "TypeError",
     "evalue": "can only concatenate str (not \"int\") to str",
     "output_type": "error",
     "traceback": [
      "\u001b[1;31m---------------------------------------------------------------------------\u001b[0m",
      "\u001b[1;31mTypeError\u001b[0m                                 Traceback (most recent call last)",
      "\u001b[1;32m<ipython-input-35-a35c69e240ed>\u001b[0m in \u001b[0;36m<module>\u001b[1;34m\u001b[0m\n\u001b[1;32m----> 1\u001b[1;33m \u001b[0mgreeter\u001b[0m\u001b[1;33m(\u001b[0m\u001b[1;36m10\u001b[0m\u001b[1;33m)\u001b[0m\u001b[1;33m\u001b[0m\u001b[1;33m\u001b[0m\u001b[0m\n\u001b[0m",
      "\u001b[1;32m<ipython-input-32-b5057fdb7533>\u001b[0m in \u001b[0;36mgreeter\u001b[1;34m(name)\u001b[0m\n\u001b[0;32m      1\u001b[0m \u001b[1;32mdef\u001b[0m \u001b[0mgreeter\u001b[0m\u001b[1;33m(\u001b[0m\u001b[0mname\u001b[0m\u001b[1;33m)\u001b[0m\u001b[1;33m:\u001b[0m\u001b[1;33m\u001b[0m\u001b[1;33m\u001b[0m\u001b[0m\n\u001b[1;32m----> 2\u001b[1;33m     \u001b[0mgreeting\u001b[0m \u001b[1;33m=\u001b[0m \u001b[1;34m'Howdy, '\u001b[0m \u001b[1;33m+\u001b[0m \u001b[0mname\u001b[0m\u001b[1;33m\u001b[0m\u001b[1;33m\u001b[0m\u001b[0m\n\u001b[0m\u001b[0;32m      3\u001b[0m     \u001b[0mprint\u001b[0m\u001b[1;33m(\u001b[0m\u001b[0mgreeting\u001b[0m\u001b[1;33m)\u001b[0m\u001b[1;33m\u001b[0m\u001b[1;33m\u001b[0m\u001b[0m\n",
      "\u001b[1;31mTypeError\u001b[0m: can only concatenate str (not \"int\") to str"
     ]
    }
   ],
   "source": [
    "greeter(10)"
   ]
  },
  {
   "cell_type": "code",
   "execution_count": 38,
   "id": "e4207891",
   "metadata": {},
   "outputs": [],
   "source": [
    "def print_again(x):\n",
    "    print(x)\n",
    "    print(x)"
   ]
  },
  {
   "cell_type": "code",
   "execution_count": 40,
   "id": "3dfc8e2a",
   "metadata": {},
   "outputs": [
    {
     "name": "stdout",
     "output_type": "stream",
     "text": [
      "1\n",
      "1\n"
     ]
    }
   ],
   "source": [
    "print_again(1)"
   ]
  },
  {
   "cell_type": "code",
   "execution_count": 41,
   "id": "0308b215",
   "metadata": {},
   "outputs": [
    {
     "name": "stdout",
     "output_type": "stream",
     "text": [
      "Victor\n",
      "Victor\n"
     ]
    }
   ],
   "source": [
    "print_again('Victor')"
   ]
  },
  {
   "cell_type": "code",
   "execution_count": 42,
   "id": "152875f9",
   "metadata": {},
   "outputs": [],
   "source": [
    "def add_and_print(number_1, number_2):\n",
    "    # Find the total\n",
    "    total = number_1 + number_2\n",
    "    print('My favorite number is')\n",
    "    print(total)"
   ]
  },
  {
   "cell_type": "code",
   "execution_count": 43,
   "id": "bdda8e0e",
   "metadata": {},
   "outputs": [
    {
     "name": "stdout",
     "output_type": "stream",
     "text": [
      "My favorite number is\n",
      "42\n"
     ]
    }
   ],
   "source": [
    "add_and_print(20, 22)"
   ]
  },
  {
   "cell_type": "code",
   "execution_count": 44,
   "id": "9b93a0dc",
   "metadata": {},
   "outputs": [
    {
     "name": "stdout",
     "output_type": "stream",
     "text": [
      "My favorite number is\n",
      "201\n"
     ]
    }
   ],
   "source": [
    "add_and_print(100, 101)"
   ]
  },
  {
   "cell_type": "code",
   "execution_count": 47,
   "id": "fe284048",
   "metadata": {},
   "outputs": [
    {
     "name": "stdout",
     "output_type": "stream",
     "text": [
      "My favorite number is\n",
      "3\n"
     ]
    }
   ],
   "source": [
    "fav_num = add_and_print(1, 2)"
   ]
  },
  {
   "cell_type": "code",
   "execution_count": 48,
   "id": "9ddf0bd1",
   "metadata": {},
   "outputs": [
    {
     "name": "stdout",
     "output_type": "stream",
     "text": [
      "None\n"
     ]
    }
   ],
   "source": [
    "print(fav_num)"
   ]
  },
  {
   "cell_type": "code",
   "execution_count": 54,
   "id": "eec4beb6",
   "metadata": {},
   "outputs": [],
   "source": [
    "def add_and_print(number_1, number_2):\n",
    "    # Find the total\n",
    "    total = number_1 + number_2\n",
    "    print('My favorite number is')\n",
    "    print(total)\n",
    "    return total"
   ]
  },
  {
   "cell_type": "code",
   "execution_count": 55,
   "id": "3535ba92",
   "metadata": {},
   "outputs": [
    {
     "name": "stdout",
     "output_type": "stream",
     "text": [
      "My favorite number is\n",
      "3\n"
     ]
    }
   ],
   "source": [
    "fav_num = add_and_print(1, 2)"
   ]
  },
  {
   "cell_type": "code",
   "execution_count": 56,
   "id": "4554f9f6",
   "metadata": {},
   "outputs": [
    {
     "name": "stdout",
     "output_type": "stream",
     "text": [
      "3\n"
     ]
    }
   ],
   "source": [
    "print(fav_num)"
   ]
  },
  {
   "cell_type": "code",
   "execution_count": null,
   "id": "a1e8b82e",
   "metadata": {},
   "outputs": [],
   "source": []
  }
 ],
 "metadata": {
  "kernelspec": {
   "display_name": "Python 3",
   "language": "python",
   "name": "python3"
  },
  "language_info": {
   "codemirror_mode": {
    "name": "ipython",
    "version": 3
   },
   "file_extension": ".py",
   "mimetype": "text/x-python",
   "name": "python",
   "nbconvert_exporter": "python",
   "pygments_lexer": "ipython3",
   "version": "3.9.5"
  }
 },
 "nbformat": 4,
 "nbformat_minor": 5
}
