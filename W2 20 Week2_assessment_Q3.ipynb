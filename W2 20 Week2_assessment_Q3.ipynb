{
 "cells": [
  {
   "cell_type": "code",
   "execution_count": 2,
   "id": "f8234c27",
   "metadata": {},
   "outputs": [
    {
     "name": "stdout",
     "output_type": "stream",
     "text": [
      "third\n"
     ]
    }
   ],
   "source": [
    "my_list = [10,5,40]\n",
    "\n",
    "if my_list[1] > 20:\n",
    "   print('first')\n",
    "elif len(my_list) == 2:\n",
    "   print('second')\n",
    "elif my_list[0] + 25 > my_list[1]:\n",
    "   print('third')\n",
    "elif len(my_list) > 1:\n",
    "   print('fourth')"
   ]
  },
  {
   "cell_type": "code",
   "execution_count": 7,
   "id": "d1a39f17",
   "metadata": {},
   "outputs": [
    {
     "name": "stdout",
     "output_type": "stream",
     "text": [
      "even\n"
     ]
    }
   ],
   "source": [
    "if 26%2 == 0:\n",
    "    print(\"even\")\n"
   ]
  },
  {
   "cell_type": "code",
   "execution_count": 7,
   "id": "0ef382e0",
   "metadata": {},
   "outputs": [
    {
     "name": "stdout",
     "output_type": "stream",
     "text": [
      "third\n"
     ]
    }
   ],
   "source": [
    "my_list = [10,30,40]\n",
    "\n",
    "#if my_list[1] > 20:\n",
    "#   print('first')\n",
    "if len(my_list) == 2:\n",
    "   print('second')\n",
    "elif my_list[0] + 25 > my_list[1]:\n",
    "   print('third')\n",
    "elif len(my_list) > 1:\n",
    "   print('fourth')"
   ]
  },
  {
   "cell_type": "code",
   "execution_count": 8,
   "id": "83b6fbd8",
   "metadata": {},
   "outputs": [
    {
     "name": "stdout",
     "output_type": "stream",
     "text": [
      "fourth\n"
     ]
    }
   ],
   "source": [
    "my_list = [10,30,40]\n",
    "\n",
    "#if my_list[1] > 20:\n",
    "#   print('first')\n",
    "if len(my_list) == 2:\n",
    "   print('second')\n",
    "#elif my_list[0] + 25 > my_list[1]:\n",
    "#   print('third')\n",
    "elif len(my_list) > 1:\n",
    "   print('fourth')"
   ]
  },
  {
   "cell_type": "code",
   "execution_count": null,
   "id": "705e2b3c",
   "metadata": {},
   "outputs": [],
   "source": []
  }
 ],
 "metadata": {
  "kernelspec": {
   "display_name": "Python 3",
   "language": "python",
   "name": "python3"
  },
  "language_info": {
   "codemirror_mode": {
    "name": "ipython",
    "version": 3
   },
   "file_extension": ".py",
   "mimetype": "text/x-python",
   "name": "python",
   "nbconvert_exporter": "python",
   "pygments_lexer": "ipython3",
   "version": "3.9.5"
  }
 },
 "nbformat": 4,
 "nbformat_minor": 5
}
