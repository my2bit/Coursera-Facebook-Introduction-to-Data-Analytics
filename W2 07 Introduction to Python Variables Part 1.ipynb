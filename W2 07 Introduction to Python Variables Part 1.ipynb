{
 "cells": [
  {
   "cell_type": "code",
   "execution_count": 4,
   "id": "13b08bbe",
   "metadata": {},
   "outputs": [
    {
     "ename": "NameError",
     "evalue": "name 'name' is not defined",
     "output_type": "error",
     "traceback": [
      "\u001b[1;31m---------------------------------------------------------------------------\u001b[0m",
      "\u001b[1;31mNameError\u001b[0m                                 Traceback (most recent call last)",
      "\u001b[1;32m<ipython-input-4-9bc0cb2ed6de>\u001b[0m in \u001b[0;36m<module>\u001b[1;34m\u001b[0m\n\u001b[1;32m----> 1\u001b[1;33m \u001b[0mname\u001b[0m\u001b[1;33m\u001b[0m\u001b[1;33m\u001b[0m\u001b[0m\n\u001b[0m",
      "\u001b[1;31mNameError\u001b[0m: name 'name' is not defined"
     ]
    }
   ],
   "source": [
    "name"
   ]
  },
  {
   "cell_type": "code",
   "execution_count": 5,
   "id": "bb7e4ae7",
   "metadata": {},
   "outputs": [],
   "source": [
    "name = 'victor'"
   ]
  },
  {
   "cell_type": "code",
   "execution_count": 6,
   "id": "0ed792c5",
   "metadata": {},
   "outputs": [],
   "source": [
    "name = 'Victor'"
   ]
  },
  {
   "cell_type": "code",
   "execution_count": 7,
   "id": "095978be",
   "metadata": {},
   "outputs": [
    {
     "data": {
      "text/plain": [
       "'Victor'"
      ]
     },
     "execution_count": 7,
     "metadata": {},
     "output_type": "execute_result"
    }
   ],
   "source": [
    "name"
   ]
  },
  {
   "cell_type": "code",
   "execution_count": 8,
   "id": "bdc0d659",
   "metadata": {},
   "outputs": [
    {
     "name": "stdout",
     "output_type": "stream",
     "text": [
      "Victor\n"
     ]
    }
   ],
   "source": [
    "print(name)"
   ]
  },
  {
   "cell_type": "code",
   "execution_count": 9,
   "id": "f2bcd6b7",
   "metadata": {},
   "outputs": [
    {
     "data": {
      "text/plain": [
       "'Victor'"
      ]
     },
     "metadata": {},
     "output_type": "display_data"
    }
   ],
   "source": [
    "display(name)"
   ]
  },
  {
   "cell_type": "code",
   "execution_count": 10,
   "id": "d50b7042",
   "metadata": {},
   "outputs": [],
   "source": [
    "name = 'victor'\n",
    "lowercase_name = name\n",
    "name = 'Victor'"
   ]
  },
  {
   "cell_type": "code",
   "execution_count": 11,
   "id": "f95b74cb",
   "metadata": {},
   "outputs": [
    {
     "data": {
      "text/plain": [
       "'Victor'"
      ]
     },
     "execution_count": 11,
     "metadata": {},
     "output_type": "execute_result"
    }
   ],
   "source": [
    "name"
   ]
  },
  {
   "cell_type": "code",
   "execution_count": 12,
   "id": "f6a70721",
   "metadata": {},
   "outputs": [
    {
     "data": {
      "text/plain": [
       "'victor'"
      ]
     },
     "execution_count": 12,
     "metadata": {},
     "output_type": "execute_result"
    }
   ],
   "source": [
    "lowercase_name"
   ]
  },
  {
   "cell_type": "code",
   "execution_count": 13,
   "id": "611cf7c5",
   "metadata": {},
   "outputs": [
    {
     "ename": "SyntaxError",
     "evalue": "invalid syntax (<ipython-input-13-b03f4c526c54>, line 1)",
     "output_type": "error",
     "traceback": [
      "\u001b[1;36m  File \u001b[1;32m\"<ipython-input-13-b03f4c526c54>\"\u001b[1;36m, line \u001b[1;32m1\u001b[0m\n\u001b[1;33m    my cool variable name = 'victor'\u001b[0m\n\u001b[1;37m       ^\u001b[0m\n\u001b[1;31mSyntaxError\u001b[0m\u001b[1;31m:\u001b[0m invalid syntax\n"
     ]
    }
   ],
   "source": [
    "my cool variable name = 'victor'"
   ]
  },
  {
   "cell_type": "code",
   "execution_count": null,
   "id": "23e4b6a8",
   "metadata": {},
   "outputs": [],
   "source": [
    "my_cool_variable_name = 'victor'"
   ]
  },
  {
   "cell_type": "code",
   "execution_count": null,
   "id": "376a9df8",
   "metadata": {},
   "outputs": [],
   "source": [
    "MyCoolVariableName = 'victor'"
   ]
  },
  {
   "cell_type": "code",
   "execution_count": null,
   "id": "b6141a33",
   "metadata": {},
   "outputs": [],
   "source": [
    "more_$_more_problems = 'yes'"
   ]
  },
  {
   "cell_type": "code",
   "execution_count": null,
   "id": "d78e7346",
   "metadata": {},
   "outputs": [],
   "source": [
    "that_one_variable_that_i_want_for_later = 1\n",
    "for_later = 1"
   ]
  },
  {
   "cell_type": "code",
   "execution_count": null,
   "id": "ca69a737",
   "metadata": {},
   "outputs": [],
   "source": [
    "m = 525600"
   ]
  },
  {
   "cell_type": "code",
   "execution_count": null,
   "id": "6636f91d",
   "metadata": {},
   "outputs": [],
   "source": [
    "moments_in_a_year = 525600"
   ]
  },
  {
   "cell_type": "code",
   "execution_count": null,
   "id": "002c2030",
   "metadata": {},
   "outputs": [],
   "source": [
    "sales_2021 = 9001"
   ]
  },
  {
   "cell_type": "code",
   "execution_count": null,
   "id": "2f3154de",
   "metadata": {},
   "outputs": [],
   "source": [
    "2021_sales = 9001"
   ]
  },
  {
   "cell_type": "code",
   "execution_count": null,
   "id": "fa2e9562",
   "metadata": {},
   "outputs": [],
   "source": []
  }
 ],
 "metadata": {
  "kernelspec": {
   "display_name": "Python 3",
   "language": "python",
   "name": "python3"
  },
  "language_info": {
   "codemirror_mode": {
    "name": "ipython",
    "version": 3
   },
   "file_extension": ".py",
   "mimetype": "text/x-python",
   "name": "python",
   "nbconvert_exporter": "python",
   "pygments_lexer": "ipython3",
   "version": "3.9.5"
  }
 },
 "nbformat": 4,
 "nbformat_minor": 5
}
