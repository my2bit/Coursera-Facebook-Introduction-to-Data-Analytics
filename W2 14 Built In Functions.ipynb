{
 "cells": [
  {
   "cell_type": "code",
   "execution_count": null,
   "id": "24a3bf82",
   "metadata": {},
   "outputs": [],
   "source": [
    "help(print)"
   ]
  },
  {
   "cell_type": "code",
   "execution_count": 2,
   "id": "aa1a63c2",
   "metadata": {},
   "outputs": [],
   "source": [
    "?print"
   ]
  },
  {
   "cell_type": "code",
   "execution_count": null,
   "id": "c88fb1ff",
   "metadata": {},
   "outputs": [],
   "source": [
    "print()"
   ]
  },
  {
   "cell_type": "markdown",
   "id": "21c5cb12",
   "metadata": {},
   "source": [
    "### String Functions"
   ]
  },
  {
   "cell_type": "code",
   "execution_count": 4,
   "id": "49f29408",
   "metadata": {},
   "outputs": [],
   "source": [
    "my_string = 'This is a sentence'"
   ]
  },
  {
   "cell_type": "code",
   "execution_count": 5,
   "id": "9d4ed185",
   "metadata": {},
   "outputs": [
    {
     "data": {
      "text/plain": [
       "['This', 'is', 'a', 'sentence']"
      ]
     },
     "execution_count": 5,
     "metadata": {},
     "output_type": "execute_result"
    }
   ],
   "source": [
    "my_string.split(' ')"
   ]
  },
  {
   "cell_type": "code",
   "execution_count": 7,
   "id": "e15652aa",
   "metadata": {},
   "outputs": [],
   "source": [
    "survey_answers = 'yes;no;yes;no;no;no'"
   ]
  },
  {
   "cell_type": "code",
   "execution_count": 9,
   "id": "4215bffc",
   "metadata": {},
   "outputs": [
    {
     "data": {
      "text/plain": [
       "['yes', 'no', 'yes', 'no', 'no', 'no']"
      ]
     },
     "execution_count": 9,
     "metadata": {},
     "output_type": "execute_result"
    }
   ],
   "source": [
    "survey_answers.split(';')"
   ]
  },
  {
   "cell_type": "code",
   "execution_count": 10,
   "id": "0e1304e0",
   "metadata": {},
   "outputs": [
    {
     "data": {
      "text/plain": [
       "'THIS IS A SENTENCE'"
      ]
     },
     "execution_count": 10,
     "metadata": {},
     "output_type": "execute_result"
    }
   ],
   "source": [
    "my_string.upper()"
   ]
  },
  {
   "cell_type": "code",
   "execution_count": 11,
   "id": "db39c87f",
   "metadata": {},
   "outputs": [
    {
     "data": {
      "text/plain": [
       "'this is a sentence'"
      ]
     },
     "execution_count": 11,
     "metadata": {},
     "output_type": "execute_result"
    }
   ],
   "source": [
    "my_string.lower()"
   ]
  },
  {
   "cell_type": "code",
   "execution_count": 12,
   "id": "0db39e71",
   "metadata": {},
   "outputs": [
    {
     "data": {
      "text/plain": [
       "False"
      ]
     },
     "execution_count": 12,
     "metadata": {},
     "output_type": "execute_result"
    }
   ],
   "source": [
    "'Utha' == 'utha'"
   ]
  },
  {
   "cell_type": "code",
   "execution_count": 13,
   "id": "411231a5",
   "metadata": {},
   "outputs": [
    {
     "data": {
      "text/plain": [
       "True"
      ]
     },
     "execution_count": 13,
     "metadata": {},
     "output_type": "execute_result"
    }
   ],
   "source": [
    "'utha' =='utha'"
   ]
  },
  {
   "cell_type": "code",
   "execution_count": 16,
   "id": "e7404c53",
   "metadata": {},
   "outputs": [],
   "source": [
    "state = 'Utha'\n",
    "lowercase_state = 'utha'"
   ]
  },
  {
   "cell_type": "code",
   "execution_count": 19,
   "id": "217e18b3",
   "metadata": {},
   "outputs": [
    {
     "data": {
      "text/plain": [
       "True"
      ]
     },
     "execution_count": 19,
     "metadata": {},
     "output_type": "execute_result"
    }
   ],
   "source": [
    "state.lower() == lowercase_state.lower()"
   ]
  },
  {
   "cell_type": "code",
   "execution_count": 20,
   "id": "fd51ff35",
   "metadata": {},
   "outputs": [
    {
     "data": {
      "text/plain": [
       "6"
      ]
     },
     "execution_count": 20,
     "metadata": {},
     "output_type": "execute_result"
    }
   ],
   "source": [
    "sum([1, 2, 3])"
   ]
  },
  {
   "cell_type": "code",
   "execution_count": 21,
   "id": "fef8af1d",
   "metadata": {},
   "outputs": [],
   "source": [
    "my_nums = [1, 10, 20, 2, 0]"
   ]
  },
  {
   "cell_type": "code",
   "execution_count": 22,
   "id": "a3dfab36",
   "metadata": {},
   "outputs": [
    {
     "data": {
      "text/plain": [
       "20"
      ]
     },
     "execution_count": 22,
     "metadata": {},
     "output_type": "execute_result"
    }
   ],
   "source": [
    "max(my_nums)"
   ]
  },
  {
   "cell_type": "code",
   "execution_count": 23,
   "id": "ffeab9b8",
   "metadata": {},
   "outputs": [
    {
     "data": {
      "text/plain": [
       "0"
      ]
     },
     "execution_count": 23,
     "metadata": {},
     "output_type": "execute_result"
    }
   ],
   "source": [
    "min(my_nums)"
   ]
  },
  {
   "cell_type": "code",
   "execution_count": null,
   "id": "5e242759",
   "metadata": {},
   "outputs": [],
   "source": []
  }
 ],
 "metadata": {
  "kernelspec": {
   "display_name": "Python 3",
   "language": "python",
   "name": "python3"
  },
  "language_info": {
   "codemirror_mode": {
    "name": "ipython",
    "version": 3
   },
   "file_extension": ".py",
   "mimetype": "text/x-python",
   "name": "python",
   "nbconvert_exporter": "python",
   "pygments_lexer": "ipython3",
   "version": "3.9.5"
  }
 },
 "nbformat": 4,
 "nbformat_minor": 5
}
