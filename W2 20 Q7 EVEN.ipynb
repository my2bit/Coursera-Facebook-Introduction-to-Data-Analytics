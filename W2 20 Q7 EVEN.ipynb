{
 "cells": [
  {
   "cell_type": "markdown",
   "id": "37a9c681",
   "metadata": {},
   "source": [
    "https://d3c33hcgiwev3.cloudfront.net/imageAssetProxy.v1/2tUGT0YCTjyVBk9GAr48Ug_efee07998c66429fad6603c9af30a8e1_Coursera_Marketing-Analytics_Q7_Assertion-error.png?expiry=1638748800000&hmac=_2SKX-mNNTVJqINPGWHiVxySYSnywtpOrjulDiRtjzM"
   ]
  },
  {
   "cell_type": "markdown",
   "id": "955256d1",
   "metadata": {},
   "source": [
    "def even_numbers(n1, n2):\n",
    "    # your code here\n",
    "    lst = [] # initialize list to append numbers that meet \"if\"condition\n",
    "    for i in range(n1, n2): #for loop to iterate over range\n",
    "        if i % 2 == 0:\n",
    "            lst.append(i)\n",
    "            \n",
    "    return lst # function output\n",
    "\n",
    "Ev_nums = (even_numbers(-2,4))# call to function and capture output\n",
    "\n",
    "print(Ev_nums) # print out, if you need to verify result"
   ]
  },
  {
   "cell_type": "code",
   "execution_count": 2,
   "id": "c6ecfeeb",
   "metadata": {},
   "outputs": [
    {
     "data": {
      "text/plain": [
       "[-2, 0, 2]"
      ]
     },
     "execution_count": 2,
     "metadata": {},
     "output_type": "execute_result"
    }
   ],
   "source": [
    "def even_numbers(n1, n2):\n",
    "    input = range(n1, n2)\n",
    "    output = []\n",
    "    for item in input:\n",
    "        if item % 2 == 0:\n",
    "            output.append(item)\n",
    "    return output\n",
    "even_numbers(-2, 4)     "
   ]
  },
  {
   "cell_type": "code",
   "execution_count": null,
   "id": "1e4a9ce8",
   "metadata": {},
   "outputs": [],
   "source": []
  }
 ],
 "metadata": {
  "kernelspec": {
   "display_name": "Python 3",
   "language": "python",
   "name": "python3"
  },
  "language_info": {
   "codemirror_mode": {
    "name": "ipython",
    "version": 3
   },
   "file_extension": ".py",
   "mimetype": "text/x-python",
   "name": "python",
   "nbconvert_exporter": "python",
   "pygments_lexer": "ipython3",
   "version": "3.9.5"
  }
 },
 "nbformat": 4,
 "nbformat_minor": 5
}
