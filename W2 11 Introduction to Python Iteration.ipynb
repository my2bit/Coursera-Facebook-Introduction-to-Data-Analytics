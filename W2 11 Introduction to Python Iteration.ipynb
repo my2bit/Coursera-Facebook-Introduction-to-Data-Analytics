{
 "cells": [
  {
   "cell_type": "code",
   "execution_count": 2,
   "id": "d95538ba",
   "metadata": {},
   "outputs": [],
   "source": [
    "list_of_words = ['hello', 'there']"
   ]
  },
  {
   "cell_type": "code",
   "execution_count": 3,
   "id": "ade724ea",
   "metadata": {},
   "outputs": [
    {
     "name": "stdout",
     "output_type": "stream",
     "text": [
      "hello\n",
      "there\n"
     ]
    }
   ],
   "source": [
    "for word in list_of_words:\n",
    "    print(word)"
   ]
  },
  {
   "cell_type": "code",
   "execution_count": 4,
   "id": "f2b4d0dd",
   "metadata": {},
   "outputs": [
    {
     "name": "stdout",
     "output_type": "stream",
     "text": [
      "Nexe word:\n",
      "hello\n",
      "-------\n",
      "Nexe word:\n",
      "there\n",
      "-------\n"
     ]
    }
   ],
   "source": [
    "for word in list_of_words:\n",
    "    print('Nexe word:')\n",
    "    print(word)\n",
    "    print('-------')"
   ]
  },
  {
   "cell_type": "code",
   "execution_count": 5,
   "id": "619281d5",
   "metadata": {},
   "outputs": [
    {
     "name": "stdout",
     "output_type": "stream",
     "text": [
      "0\n",
      "1\n",
      "2\n",
      "3\n",
      "4\n",
      "5\n",
      "6\n",
      "7\n",
      "8\n",
      "9\n"
     ]
    }
   ],
   "source": [
    "for x in range(0, 10):\n",
    "    print(x)"
   ]
  },
  {
   "cell_type": "code",
   "execution_count": 6,
   "id": "cfe59585",
   "metadata": {},
   "outputs": [
    {
     "name": "stdout",
     "output_type": "stream",
     "text": [
      "5\n",
      "6\n",
      "7\n",
      "8\n",
      "9\n"
     ]
    }
   ],
   "source": [
    "for x in range(5, 10):\n",
    "    print(x)"
   ]
  },
  {
   "cell_type": "code",
   "execution_count": 7,
   "id": "51014e36",
   "metadata": {},
   "outputs": [
    {
     "name": "stdout",
     "output_type": "stream",
     "text": [
      "0\n",
      "1\n",
      "2\n",
      "3\n",
      "4\n"
     ]
    }
   ],
   "source": [
    "for x in range(5):\n",
    "    print(x)"
   ]
  },
  {
   "cell_type": "code",
   "execution_count": 9,
   "id": "76acc3b8",
   "metadata": {},
   "outputs": [
    {
     "name": "stdout",
     "output_type": "stream",
     "text": [
      "Hi!!!\n",
      "Hi!!!\n",
      "Hi!!!\n"
     ]
    }
   ],
   "source": [
    "for i in range(3):\n",
    "    print('Hi!!!')"
   ]
  },
  {
   "cell_type": "code",
   "execution_count": 11,
   "id": "3244d6fd",
   "metadata": {},
   "outputs": [
    {
     "name": "stdout",
     "output_type": "stream",
     "text": [
      "6\n"
     ]
    }
   ],
   "source": [
    "# Quiz\n",
    "\n",
    "total = 0\n",
    "for v in range(4):\n",
    "    total = total + v\n",
    "\n",
    "print(total)"
   ]
  },
  {
   "cell_type": "code",
   "execution_count": 13,
   "id": "452b82a7",
   "metadata": {},
   "outputs": [],
   "source": [
    "questions = [\n",
    "    'What is your name?',\n",
    "    'What is your quest?',\n",
    "    'what is your favorite color'\n",
    "]\n"
   ]
  },
  {
   "cell_type": "code",
   "execution_count": 12,
   "id": "b585ff64",
   "metadata": {},
   "outputs": [],
   "source": [
    "number_of_short_questions = 0\n"
   ]
  },
  {
   "cell_type": "code",
   "execution_count": 14,
   "id": "7ad85320",
   "metadata": {},
   "outputs": [
    {
     "name": "stdout",
     "output_type": "stream",
     "text": [
      "2\n"
     ]
    }
   ],
   "source": [
    "for q in questions:\n",
    "    q_length = len(q)\n",
    "    if q_length < 20:\n",
    "        number_of_short_questions += 1\n",
    "        \n",
    "print(number_of_short_questions)\n",
    "    "
   ]
  },
  {
   "cell_type": "code",
   "execution_count": null,
   "id": "2b8f0292",
   "metadata": {},
   "outputs": [],
   "source": []
  }
 ],
 "metadata": {
  "kernelspec": {
   "display_name": "Python 3",
   "language": "python",
   "name": "python3"
  },
  "language_info": {
   "codemirror_mode": {
    "name": "ipython",
    "version": 3
   },
   "file_extension": ".py",
   "mimetype": "text/x-python",
   "name": "python",
   "nbconvert_exporter": "python",
   "pygments_lexer": "ipython3",
   "version": "3.9.5"
  }
 },
 "nbformat": 4,
 "nbformat_minor": 5
}
