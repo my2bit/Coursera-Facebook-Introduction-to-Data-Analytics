{
 "cells": [
  {
   "cell_type": "code",
   "execution_count": 1,
   "id": "e6506e24",
   "metadata": {},
   "outputs": [],
   "source": [
    "# Random sample of 5 different purchase amount (US $) from each group\n",
    "\n",
    "younger = [12, 5, 20, 8,3]\n",
    "twenties = [22, 18, 14, 25, 17]\n",
    "thirties = [24, 31, 27, 19, 21]\n",
    "forties = [32, 29, 34, 25, 31]\n",
    "fifties = [21, 33, 24, 18, 26]\n",
    "older = [19, 13, 14, 18, 15]"
   ]
  },
  {
   "cell_type": "code",
   "execution_count": 6,
   "id": "74456952",
   "metadata": {},
   "outputs": [],
   "source": [
    "survey_groups ={\n",
    "    '19 or less': younger,\n",
    "    '20-29' : twenties,\n",
    "    '30-39' : thirties,\n",
    "    '40-49' : forties,\n",
    "    '50-59' : fifties,\n",
    "    '60 or more' : older\n",
    "}"
   ]
  },
  {
   "cell_type": "code",
   "execution_count": 3,
   "id": "5db90846",
   "metadata": {},
   "outputs": [],
   "source": [
    "averages = {}"
   ]
  },
  {
   "cell_type": "code",
   "execution_count": 8,
   "id": "87960e37",
   "metadata": {},
   "outputs": [
    {
     "name": "stdout",
     "output_type": "stream",
     "text": [
      "19 or less : 9.6\n",
      "20-29 : 19.2\n",
      "30-39 : 24.4\n",
      "40-49 : 30.2\n",
      "50-59 : 24.4\n",
      "60 or more : 15.8\n"
     ]
    }
   ],
   "source": [
    "for group_name in survey_groups.keys():\n",
    "    age_group = survey_groups[group_name]\n",
    "    group_avg = sum(age_group) / len(age_group)\n",
    "    averages[group_name] = group_avg\n",
    "    print(group_name, ':', group_avg)"
   ]
  },
  {
   "cell_type": "code",
   "execution_count": null,
   "id": "794bbdef",
   "metadata": {},
   "outputs": [],
   "source": []
  }
 ],
 "metadata": {
  "kernelspec": {
   "display_name": "Python 3",
   "language": "python",
   "name": "python3"
  },
  "language_info": {
   "codemirror_mode": {
    "name": "ipython",
    "version": 3
   },
   "file_extension": ".py",
   "mimetype": "text/x-python",
   "name": "python",
   "nbconvert_exporter": "python",
   "pygments_lexer": "ipython3",
   "version": "3.9.5"
  }
 },
 "nbformat": 4,
 "nbformat_minor": 5
}
